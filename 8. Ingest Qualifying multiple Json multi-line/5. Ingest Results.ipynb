{
 "cells": [
  {
   "cell_type": "code",
   "execution_count": 0,
   "metadata": {
    "application/vnd.databricks.v1+cell": {
     "cellMetadata": {
      "byteLimit": 2048000,
      "rowLimit": 10000
     },
     "inputWidgets": {},
     "nuid": "860ae1a8-94e3-44bc-af98-270c6e6ef55b",
     "showTitle": false,
     "tableResultSettingsMap": {},
     "title": ""
    }
   },
   "outputs": [],
   "source": [
    "from pyspark.sql.functions import col, lit, current_timestamp\n",
    "from pyspark.sql.types import StructType, StructField, StringType, IntegerType, FloatType"
   ]
  },
  {
   "cell_type": "code",
   "execution_count": 0,
   "metadata": {
    "application/vnd.databricks.v1+cell": {
     "cellMetadata": {
      "byteLimit": 2048000,
      "rowLimit": 10000
     },
     "inputWidgets": {},
     "nuid": "3e1c1e44-a55a-4c58-8f92-a2447c764926",
     "showTitle": false,
     "tableResultSettingsMap": {},
     "title": ""
    }
   },
   "outputs": [],
   "source": [
    "# Check if writing datatypes are correct\n",
    "# Check if the writing to parquet works as expected"
   ]
  },
  {
   "cell_type": "code",
   "execution_count": 0,
   "metadata": {
    "application/vnd.databricks.v1+cell": {
     "cellMetadata": {
      "byteLimit": 2048000,
      "rowLimit": 10000
     },
     "inputWidgets": {},
     "nuid": "b0ed7537-cec5-4260-bca2-32bd53dfcd00",
     "showTitle": false,
     "tableResultSettingsMap": {},
     "title": ""
    }
   },
   "outputs": [],
   "source": [
    "results_schema = StructType(\n",
    "    [\n",
    "        StructField(\"resultId\", IntegerType(), False),\n",
    "        StructField(\"raceId\", IntegerType(), False),\n",
    "        StructField(\"driverId\", IntegerType(), False),\n",
    "        StructField(\"constructorId\", IntegerType(), False),\n",
    "        StructField(\"number\", IntegerType(), False),\n",
    "        StructField(\"grid\", IntegerType(), False),\n",
    "        StructField(\"position\", IntegerType(), False),\n",
    "        StructField(\"positionText\", StringType(), False),\n",
    "        StructField(\"positionOrder\", IntegerType(), False),\n",
    "        StructField(\"points\", IntegerType(), False),\n",
    "        StructField(\"laps\", IntegerType(), False),\n",
    "        StructField(\"time\", StringType(), False),\n",
    "        StructField(\"milliseconds\", IntegerType(), False),\n",
    "        StructField(\"fastestLap\", IntegerType(), False),\n",
    "        StructField(\"rank\", IntegerType(), False),\n",
    "        StructField(\"fastestLapTime\", StringType(), False),\n",
    "        StructField(\"fastestLapSpeed\", FloatType(), False),\n",
    "        StructField(\"statusId\", IntegerType(), False),\n",
    "    ]\n",
    ")"
   ]
  },
  {
   "cell_type": "code",
   "execution_count": 0,
   "metadata": {
    "application/vnd.databricks.v1+cell": {
     "cellMetadata": {
      "byteLimit": 2048000,
      "rowLimit": 10000
     },
     "inputWidgets": {},
     "nuid": "5ef60a2f-64d5-4eac-bf17-b7d97723b774",
     "showTitle": false,
     "tableResultSettingsMap": {},
     "title": ""
    }
   },
   "outputs": [],
   "source": [
    "results_df = spark.read.json(\"/mnt/sanformula1dl/raw/results.json\", schema=results_schema)"
   ]
  },
  {
   "cell_type": "code",
   "execution_count": 0,
   "metadata": {
    "application/vnd.databricks.v1+cell": {
     "cellMetadata": {
      "byteLimit": 2048000,
      "rowLimit": 10000
     },
     "inputWidgets": {},
     "nuid": "b985af82-df6e-4d11-a6c6-6028071b3e29",
     "showTitle": false,
     "tableResultSettingsMap": {},
     "title": ""
    }
   },
   "outputs": [],
   "source": [
    "display(results_df)"
   ]
  },
  {
   "cell_type": "code",
   "execution_count": 0,
   "metadata": {
    "application/vnd.databricks.v1+cell": {
     "cellMetadata": {
      "byteLimit": 2048000,
      "rowLimit": 10000
     },
     "inputWidgets": {},
     "nuid": "4c27d559-94b1-4eb4-be40-57eed090432c",
     "showTitle": false,
     "tableResultSettingsMap": {},
     "title": ""
    }
   },
   "outputs": [],
   "source": [
    "results_selected_df = results_df.select(\n",
    "    col(\"resultId\").alias(\"result_id\"),\n",
    "    col(\"raceId\").alias(\"race_id\"),\n",
    "    col(\"driverId\").alias(\"driver_id\"),\n",
    "    col(\"constructorId\").alias(\"constructor_id\"),\n",
    "    col(\"number\"),\n",
    "    col(\"grid\"),\n",
    "    col(\"position\"),\n",
    "    col(\"positionText\").alias(\"position_text\"),\n",
    "    col(\"positionOrder\").alias(\"position_order\"),\n",
    "    col(\"points\"),\n",
    "    col(\"laps\"),\n",
    "    col(\"time\"),\n",
    "    col(\"milliseconds\"),\n",
    "    col(\"fastestLap\").alias(\"fastest_lap\"),\n",
    "    col(\"rank\"),\n",
    "    col(\"fastestLapTime\").alias(\"fastest_lap_time\"),\n",
    "    col(\"fastestLapSpeed\").alias(\"fastest_lap_speed\")\n",
    ")"
   ]
  },
  {
   "cell_type": "code",
   "execution_count": 0,
   "metadata": {
    "application/vnd.databricks.v1+cell": {
     "cellMetadata": {
      "byteLimit": 2048000,
      "rowLimit": 10000
     },
     "inputWidgets": {},
     "nuid": "a6ccd72e-f08e-4220-9aba-3fd21891f5a8",
     "showTitle": false,
     "tableResultSettingsMap": {},
     "title": ""
    }
   },
   "outputs": [],
   "source": [
    "results_final_df = results_selected_df.withColumn(\"ingestion_date\", current_timestamp()) \\\n",
    "    .withColumn(\"data_source\", lit(\"manual\") )"
   ]
  },
  {
   "cell_type": "code",
   "execution_count": 0,
   "metadata": {
    "application/vnd.databricks.v1+cell": {
     "cellMetadata": {
      "byteLimit": 2048000,
      "rowLimit": 10000
     },
     "inputWidgets": {},
     "nuid": "4eae92c6-4582-49b0-8aa4-e18c91cd305e",
     "showTitle": false,
     "tableResultSettingsMap": {},
     "title": ""
    }
   },
   "outputs": [],
   "source": [
    "display(results_final_df)"
   ]
  },
  {
   "cell_type": "code",
   "execution_count": 0,
   "metadata": {
    "application/vnd.databricks.v1+cell": {
     "cellMetadata": {
      "byteLimit": 2048000,
      "rowLimit": 10000
     },
     "inputWidgets": {},
     "nuid": "3451f297-06db-4455-b509-6adb4bbe6b03",
     "showTitle": false,
     "tableResultSettingsMap": {},
     "title": ""
    }
   },
   "outputs": [],
   "source": [
    "results_final_df.write.partitionBy(\"race_id\").parquet(\"/mnt/sanformula1dl/processed/results\", mode=\"overwrite\")"
   ]
  },
  {
   "cell_type": "code",
   "execution_count": 0,
   "metadata": {
    "application/vnd.databricks.v1+cell": {
     "cellMetadata": {},
     "inputWidgets": {},
     "nuid": "c5b5e08e-bec8-4beb-9b1b-58f3a55bd402",
     "showTitle": false,
     "tableResultSettingsMap": {},
     "title": ""
    }
   },
   "outputs": [],
   "source": []
  }
 ],
 "metadata": {
  "application/vnd.databricks.v1+notebook": {
   "computePreferences": null,
   "dashboards": [],
   "environmentMetadata": {
    "base_environment": "",
    "environment_version": "2"
   },
   "language": "python",
   "notebookMetadata": {
    "mostRecentlyExecutedCommandWithImplicitDF": {
     "commandId": 8916175977154492,
     "dataframes": [
      "_sqldf"
     ]
    },
    "pythonIndentUnit": 4
   },
   "notebookName": "5. Ingest Results",
   "widgets": {}
  },
  "language_info": {
   "name": "python"
  }
 },
 "nbformat": 4,
 "nbformat_minor": 0
}
