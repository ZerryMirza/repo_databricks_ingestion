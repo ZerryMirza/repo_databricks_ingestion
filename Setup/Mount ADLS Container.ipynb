{
 "cells": [
  {
   "cell_type": "code",
   "execution_count": 0,
   "metadata": {
    "application/vnd.databricks.v1+cell": {
     "cellMetadata": {
      "byteLimit": 2048000,
      "rowLimit": 10000
     },
     "inputWidgets": {},
     "nuid": "2a24b914-634f-4fcb-a0a9-d11abe4df1eb",
     "showTitle": false,
     "tableResultSettingsMap": {},
     "title": ""
    }
   },
   "outputs": [],
   "source": [
    "storage_account = \"sanformula1dl\"\n",
    "container_name = \"demo,raw,processed,presentation\".split(\",\")\n",
    "client_id = dbutils.secrets.get(scope=\"scope-sanformula1dl-access-token-key\", key=\"sanformula1dl-service-account-client-id\")\n",
    "tenant_id = dbutils.secrets.get(scope=\"scope-sanformula1dl-access-token-key\", key=\"sanformula1dl-service-account-tenant-id\")\n",
    "client_secret_value = dbutils.secrets.get(scope=\"scope-sanformula1dl-access-token-key\", key=\"sanformula1dl-service-account-client-secret\")"
   ]
  },
  {
   "cell_type": "code",
   "execution_count": 0,
   "metadata": {
    "application/vnd.databricks.v1+cell": {
     "cellMetadata": {
      "byteLimit": 2048000,
      "rowLimit": 10000
     },
     "inputWidgets": {},
     "nuid": "a9f5786a-22f4-452d-9b3d-2092aded2c1c",
     "showTitle": false,
     "tableResultSettingsMap": {},
     "title": ""
    }
   },
   "outputs": [],
   "source": [
    "config = {\n",
    "    f\"fs.azure.account.auth.type\": \"OAuth\",\n",
    "    f\"fs.azure.account.oauth.provider.type\": \"org.apache.hadoop.fs.azurebfs.oauth2.ClientCredsTokenProvider\",\n",
    "    f\"fs.azure.account.oauth2.client.id\": client_id,\n",
    "    f\"fs.azure.account.oauth2.client.secret\": client_secret_value,\n",
    "    f\"fs.azure.account.oauth2.client.endpoint\": f\"https://login.microsoftonline.com/{tenant_id}/oauth2/token\"\n",
    "}"
   ]
  },
  {
   "cell_type": "code",
   "execution_count": 0,
   "metadata": {
    "application/vnd.databricks.v1+cell": {
     "cellMetadata": {
      "byteLimit": 2048000,
      "rowLimit": 10000
     },
     "inputWidgets": {},
     "nuid": "e84e0aee-8f5e-41ff-9798-68646cc2af7f",
     "showTitle": false,
     "tableResultSettingsMap": {},
     "title": ""
    }
   },
   "outputs": [],
   "source": [
    "# Mount demo\n",
    "dbutils.fs.mount(\n",
    "    source = f\"abfss://demo@sanformula1dl.dfs.core.windows.net\",\n",
    "    mount_point=f\"/mnt/{storage_account}/{container_name[0]}\",\n",
    "    extra_configs=config\n",
    ")"
   ]
  },
  {
   "cell_type": "code",
   "execution_count": 0,
   "metadata": {
    "application/vnd.databricks.v1+cell": {
     "cellMetadata": {
      "byteLimit": 2048000,
      "rowLimit": 10000
     },
     "inputWidgets": {},
     "nuid": "dcbf7b5a-aef7-43bb-8740-da80a6289242",
     "showTitle": false,
     "tableResultSettingsMap": {},
     "title": ""
    }
   },
   "outputs": [],
   "source": [
    "# Create a function to create mounts\n",
    "def mount_adls(storage_account_, container_names):\n",
    "    config_ = {\n",
    "        f\"fs.azure.account.auth.type\": \"OAuth\",\n",
    "        f\"fs.azure.account.oauth.provider.type\": \"org.apache.hadoop.fs.azurebfs.oauth2.ClientCredsTokenProvider\",\n",
    "        f\"fs.azure.account.oauth2.client.id\": client_id,\n",
    "        f\"fs.azure.account.oauth2.client.secret\": client_secret_value,\n",
    "        f\"fs.azure.account.oauth2.client.endpoint\": f\"https://login.microsoftonline.com/{tenant_id}/oauth2/token\"\n",
    "    }\n",
    "    # unmount any existing container_name mounts...\n",
    "    # for container in container_name_:\n",
    "    #     for mount in dbutils.fs.mounts():\n",
    "    #         if mount.mountPoint == f\"/mnt/{storage_account_}/{container}\":\n",
    "    #             dbutils.fs.unmount(f\"/mnt/{storage_account_}/{container}\")\n",
    "    for container in container_names:\n",
    "        if any(mount.mountPoint == f\"/mnt/{storage_account_}/{container}\" for mount in dbutils.fs.mounts()):\n",
    "            dbutils.fs.unmount(f\"/mnt/{storage_account_}/{container}\")\n",
    "            print(f\"Unmounted: /mnt/{storage_account_}/{container}\")\n",
    "    for container in container_names:\n",
    "        try:\n",
    "            dbutils.fs.mount(\n",
    "                source = f\"abfss://{container}@{storage_account_}.dfs.core.windows.net\",\n",
    "                mount_point=f\"/mnt/{storage_account_}/{container}\",\n",
    "                extra_configs=config_\n",
    "                )\n",
    "            print(f\"Mounted {container} to /mnt/{storage_account_}/{container}\")\n",
    "        except Exception as e:\n",
    "            print(f\"Error mounting {container}: {e}\")\n"
   ]
  },
  {
   "cell_type": "code",
   "execution_count": 0,
   "metadata": {
    "application/vnd.databricks.v1+cell": {
     "cellMetadata": {
      "byteLimit": 2048000,
      "rowLimit": 10000
     },
     "inputWidgets": {},
     "nuid": "9949c902-1578-4177-9b25-60e1c191b397",
     "showTitle": false,
     "tableResultSettingsMap": {},
     "title": ""
    }
   },
   "outputs": [],
   "source": [
    "mount_adls(storage_account_=storage_account, container_names=container_name)"
   ]
  },
  {
   "cell_type": "code",
   "execution_count": 0,
   "metadata": {
    "application/vnd.databricks.v1+cell": {
     "cellMetadata": {
      "byteLimit": 2048000,
      "rowLimit": 10000
     },
     "inputWidgets": {},
     "nuid": "8464c690-8d8d-4d3f-8815-4333a42e6645",
     "showTitle": false,
     "tableResultSettingsMap": {},
     "title": ""
    }
   },
   "outputs": [],
   "source": [
    "dbutils.fs.ls(\"/mnt/demo\")"
   ]
  },
  {
   "cell_type": "code",
   "execution_count": 0,
   "metadata": {
    "application/vnd.databricks.v1+cell": {
     "cellMetadata": {
      "byteLimit": 2048000,
      "rowLimit": 10000
     },
     "inputWidgets": {},
     "nuid": "d06f75e4-726c-4939-b72a-2088d89ba678",
     "showTitle": false,
     "tableResultSettingsMap": {},
     "title": ""
    }
   },
   "outputs": [],
   "source": [
    "# unmount again\n",
    "dbutils.fs.unmount(\"/mnt/demo\")"
   ]
  },
  {
   "cell_type": "code",
   "execution_count": 0,
   "metadata": {
    "application/vnd.databricks.v1+cell": {
     "cellMetadata": {
      "byteLimit": 2048000,
      "rowLimit": 10000
     },
     "inputWidgets": {},
     "nuid": "45203480-0065-42ba-90ca-cfd36ee5ab0d",
     "showTitle": false,
     "tableResultSettingsMap": {},
     "title": ""
    }
   },
   "outputs": [],
   "source": [
    "# Create all container mounts\n",
    "for container in container_name:\n",
    "    mount_adls(storage_account_=storage_account, container_name_=container)"
   ]
  },
  {
   "cell_type": "code",
   "execution_count": 0,
   "metadata": {
    "application/vnd.databricks.v1+cell": {
     "cellMetadata": {
      "byteLimit": 2048000,
      "rowLimit": 10000
     },
     "inputWidgets": {},
     "nuid": "04f4dcb4-0ae7-4b46-8f35-70d64db37619",
     "showTitle": false,
     "tableResultSettingsMap": {},
     "title": ""
    }
   },
   "outputs": [],
   "source": [
    "display(dbutils.fs.mounts())"
   ]
  },
  {
   "cell_type": "code",
   "execution_count": 0,
   "metadata": {
    "application/vnd.databricks.v1+cell": {
     "cellMetadata": {
      "byteLimit": 2048000,
      "rowLimit": 10000
     },
     "inputWidgets": {},
     "nuid": "a61d4865-f59f-4b9e-baf6-7e1705ba8a9d",
     "showTitle": false,
     "tableResultSettingsMap": {},
     "title": ""
    }
   },
   "outputs": [],
   "source": [
    "display(dbutils.fs.ls(\"/mnt/sanformula1dl/\"))"
   ]
  },
  {
   "cell_type": "code",
   "execution_count": 0,
   "metadata": {
    "application/vnd.databricks.v1+cell": {
     "cellMetadata": {},
     "inputWidgets": {},
     "nuid": "8f31f335-0fee-41d0-a1c6-2d3c4d3d08ad",
     "showTitle": false,
     "tableResultSettingsMap": {},
     "title": ""
    }
   },
   "outputs": [],
   "source": []
  }
 ],
 "metadata": {
  "application/vnd.databricks.v1+notebook": {
   "computePreferences": null,
   "dashboards": [],
   "environmentMetadata": {
    "base_environment": "",
    "environment_version": "2"
   },
   "language": "python",
   "notebookMetadata": {
    "mostRecentlyExecutedCommandWithImplicitDF": {
     "commandId": 544552596935227,
     "dataframes": [
      "_sqldf"
     ]
    },
    "pythonIndentUnit": 4
   },
   "notebookName": "Mount ADLS Container",
   "widgets": {}
  },
  "language_info": {
   "name": "python"
  }
 },
 "nbformat": 4,
 "nbformat_minor": 0
}
